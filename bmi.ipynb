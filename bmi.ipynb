{
  "nbformat": 4,
  "nbformat_minor": 0,
  "metadata": {
    "colab": {
      "name": "bmi.ipynb",
      "provenance": [],
      "authorship_tag": "ABX9TyMRehUdU4Ie1E7zjBw7T3Aw",
      "include_colab_link": true
    },
    "kernelspec": {
      "name": "python3",
      "display_name": "Python 3"
    }
  },
  "cells": [
    {
      "cell_type": "markdown",
      "metadata": {
        "id": "view-in-github",
        "colab_type": "text"
      },
      "source": [
        "<a href=\"https://colab.research.google.com/github/Hsu-Wei-Han/python-h/blob/main/bmi.ipynb\" target=\"_parent\"><img src=\"https://colab.research.google.com/assets/colab-badge.svg\" alt=\"Open In Colab\"/></a>"
      ]
    },
    {
      "cell_type": "code",
      "metadata": {
        "id": "gz3wGLDHErqL"
      },
      "source": [
        "height = eval(input(\"請輸入身高(cm):\"))\n",
        "weight = eval(input(\"請輸入體重(kg):\"))\n",
        "\n",
        "bmi = weight/((height/100)**2)\n",
        "print(\"此人的BMI為：\", bmi)"
      ],
      "execution_count": null,
      "outputs": []
    },
    {
      "cell_type": "code",
      "metadata": {
        "id": "sAmEzvi0Fz8E"
      },
      "source": [
        ""
      ],
      "execution_count": null,
      "outputs": []
    }
  ]
}