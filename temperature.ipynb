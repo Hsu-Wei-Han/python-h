{
  "nbformat": 4,
  "nbformat_minor": 0,
  "metadata": {
    "colab": {
      "name": "temperature.ipynb",
      "provenance": [],
      "authorship_tag": "ABX9TyOHUJxe7IxBvokAvc8RiUfN",
      "include_colab_link": true
    },
    "kernelspec": {
      "name": "python3",
      "display_name": "Python 3"
    }
  },
  "cells": [
    {
      "cell_type": "markdown",
      "metadata": {
        "id": "view-in-github",
        "colab_type": "text"
      },
      "source": [
        "<a href=\"https://colab.research.google.com/github/Hsu-Wei-Han/python-h/blob/main/temperature.ipynb\" target=\"_parent\"><img src=\"https://colab.research.google.com/assets/colab-badge.svg\" alt=\"Open In Colab\"/></a>"
      ]
    },
    {
      "cell_type": "code",
      "metadata": {
        "colab": {
          "base_uri": "https://localhost:8080/"
        },
        "id": "tVkaUVNXGqdk",
        "outputId": "053b8a1f-8ccc-485b-a09d-e145d9484713"
      },
      "source": [
        "tempC = eval(input(\"請輸入攝氏溫度值：\"))\n",
        "tempF = tempC *(9/5) + 32\n",
        "print(\"攝氏溫度\",tempC,\"度,相當於華氏溫度\",tempF,\"度\")"
      ],
      "execution_count": 2,
      "outputs": [
        {
          "output_type": "stream",
          "text": [
            "請輸入攝氏溫度值：30\n",
            "攝氏溫度 30 度,相當於華氏溫度 86.0 度\n"
          ],
          "name": "stdout"
        }
      ]
    }
  ]
}